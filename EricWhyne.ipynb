{
 "cells": [
  {
   "cell_type": "code",
   "execution_count": 8,
   "metadata": {
    "collapsed": false
   },
   "outputs": [
    {
     "name": "stdout",
     "output_type": "stream",
     "text": [
      "# records in train: 4040\n",
      "# records in test: 1631\n",
      "{u'giver_username_if_known': u'N/A',\n",
      " u'number_of_downvotes_of_request_at_retrieval': 0,\n",
      " u'number_of_upvotes_of_request_at_retrieval': 1,\n",
      " u'post_was_edited': False,\n",
      " u'request_id': u't3_l25d7',\n",
      " u'request_number_of_comments_at_retrieval': 0,\n",
      " u'request_text': u'Hi I am in need of food for my 4 children we are a military family that has really hit hard times and we have exahusted all means of help just to be able to feed my family and make it through another night is all i ask i know our blessing is coming so whatever u can find in your heart to give is greatly appreciated',\n",
      " u'request_text_edit_aware': u'Hi I am in need of food for my 4 children we are a military family that has really hit hard times and we have exahusted all means of help just to be able to feed my family and make it through another night is all i ask i know our blessing is coming so whatever u can find in your heart to give is greatly appreciated',\n",
      " u'request_title': u'Request Colorado Springs Help Us Please',\n",
      " u'requester_account_age_in_days_at_request': 0.0,\n",
      " u'requester_account_age_in_days_at_retrieval': 792.4204050925925,\n",
      " u'requester_days_since_first_post_on_raop_at_request': 0.0,\n",
      " u'requester_days_since_first_post_on_raop_at_retrieval': 792.4204050925925,\n",
      " u'requester_number_of_comments_at_request': 0,\n",
      " u'requester_number_of_comments_at_retrieval': 0,\n",
      " u'requester_number_of_comments_in_raop_at_request': 0,\n",
      " u'requester_number_of_comments_in_raop_at_retrieval': 0,\n",
      " u'requester_number_of_posts_at_request': 0,\n",
      " u'requester_number_of_posts_at_retrieval': 1,\n",
      " u'requester_number_of_posts_on_raop_at_request': 0,\n",
      " u'requester_number_of_posts_on_raop_at_retrieval': 1,\n",
      " u'requester_number_of_subreddits_at_request': 0,\n",
      " u'requester_received_pizza': False,\n",
      " u'requester_subreddits_at_request': [],\n",
      " u'requester_upvotes_minus_downvotes_at_request': 0,\n",
      " u'requester_upvotes_minus_downvotes_at_retrieval': 1,\n",
      " u'requester_upvotes_plus_downvotes_at_request': 0,\n",
      " u'requester_upvotes_plus_downvotes_at_retrieval': 1,\n",
      " u'requester_user_flair': None,\n",
      " u'requester_username': u'nickylvst',\n",
      " u'unix_timestamp_of_request': 1317852607.0,\n",
      " u'unix_timestamp_of_request_utc': 1317849007.0}\n"
     ]
    }
   ],
   "source": [
    "import json\n",
    "from pprint import pprint\n",
    "train = json.loads(open(\"train.json\").read())\n",
    "test = json.loads(open(\"test.json\").read())\n",
    "\n",
    "print \"# records in train:\",len(train)\n",
    "print \"# records in test:\",len(test)\n",
    "\n",
    "pprint(train[0])\n",
    "    "
   ]
  }
 ],
 "metadata": {
  "kernelspec": {
   "display_name": "Python 2",
   "language": "python",
   "name": "python2"
  },
  "language_info": {
   "codemirror_mode": {
    "name": "ipython",
    "version": 2
   },
   "file_extension": ".py",
   "mimetype": "text/x-python",
   "name": "python",
   "nbconvert_exporter": "python",
   "pygments_lexer": "ipython2",
   "version": "2.7.9"
  }
 },
 "nbformat": 4,
 "nbformat_minor": 0
}
