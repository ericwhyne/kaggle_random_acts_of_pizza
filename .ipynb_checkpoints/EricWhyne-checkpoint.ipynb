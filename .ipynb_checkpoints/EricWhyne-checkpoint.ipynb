{
 "cells": [
  {
   "cell_type": "code",
   "execution_count": 14,
   "metadata": {
    "collapsed": false
   },
   "outputs": [
    {
     "name": "stdout",
     "output_type": "stream",
     "text": [
      "# records in train: 4040\n",
      "# records in test: 1631\n"
     ]
    }
   ],
   "source": [
    "import json\n",
    "from pprint import pprint\n",
    "orig_train = json.loads(open(\"train.json\").read())\n",
    "orig_test = json.loads(open(\"test.json\").read())\n",
    "\n",
    "print \"# records in train:\",len(orig_train)\n",
    "print \"# records in test:\",len(orig_test)\n",
    "\n",
    "orig_train_text = []\n",
    "orig_train_labels = []\n",
    "kaggle_test_text = []\n",
    "#TODO: create more features arrays here\n",
    "\n",
    "for record in orig_train:\n",
    "    orig_train_text.append(record['request_text'])\n",
    "    if record['requester_received_pizza']:\n",
    "        orig_train_labels.append(1)\n",
    "    else:\n",
    "        orig_train_labels.append(0)\n",
    "for record in orig_test:\n",
    "    kaggle_test_text.append(record['request_text_edit_aware'])\n",
    "    #TODO: build more features arrays here\n",
    "\n",
    "#pprint(test[1])\n",
    "#print orig_train_labels[:10]\n",
    "#print orig_train_text[0]\n",
    "#print kaggle_test_text[1]\n",
    "\n",
    "train_text = orig_train_text[:3500]\n",
    "train_labels = orig_train_labels[:3500]\n",
    "\n",
    "dev_text = orig_train_text[3501:]\n",
    "dev_labels = orig_train_labels[3501:]\n"
   ]
  },
  {
   "cell_type": "code",
   "execution_count": 17,
   "metadata": {
    "collapsed": false
   },
   "outputs": [
    {
     "name": "stdout",
     "output_type": "stream",
     "text": [
      " \n",
      "MNB f1 score:  0.883461270063\n",
      "MNB best params: {'alpha': 0.0001}\n"
     ]
    }
   ],
   "source": [
    "from sklearn.naive_bayes import MultinomialNB\n",
    "from sklearn.grid_search import GridSearchCV\n",
    "from sklearn.feature_extraction.text import *\n",
    "from sklearn import metrics\n",
    "\n",
    "cv_train = CountVectorizer()\n",
    "dtm_train = cv_train.fit_transform(train_text) # doc term matrix\n",
    "cv_dev = CountVectorizer(vocabulary=cv_train.get_feature_names())\n",
    "dtm_dev = cv_dev.fit_transform(dev_text)\n",
    "\n",
    "mnb = MultinomialNB(alpha=.01)\n",
    "mnb_parameters = {'alpha':[.1,.001,.0001,.00001]}\n",
    "mnbgs = GridSearchCV(mnb, mnb_parameters)\n",
    "mnbgs.fit(dtm_train, train_labels)\n",
    "mnb_pred = mnbgs.predict(dtm_dev)\n",
    "print \"\\nMNB f1 score: \", metrics.f1_score(dev_labels, mnb_pred, average='macro')\n",
    "print \"MNB best params:\", mnbgs.best_params_"
   ]
  }
 ],
 "metadata": {
  "kernelspec": {
   "display_name": "Python 2",
   "language": "python",
   "name": "python2"
  },
  "language_info": {
   "codemirror_mode": {
    "name": "ipython",
    "version": 2
   },
   "file_extension": ".py",
   "mimetype": "text/x-python",
   "name": "python",
   "nbconvert_exporter": "python",
   "pygments_lexer": "ipython2",
   "version": "2.7.9"
  }
 },
 "nbformat": 4,
 "nbformat_minor": 0
}
