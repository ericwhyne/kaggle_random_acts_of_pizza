{
 "cells": [
  {
   "cell_type": "code",
   "execution_count": 1,
   "metadata": {
    "collapsed": true
   },
   "outputs": [],
   "source": [
    "import json\n",
    "from collections import Counter\n",
    "from nltk.tokenize.regexp import RegexpTokenizer\n",
    "from nltk.corpus import stopwords\n",
    "from textblob import TextBlob"
   ]
  },
  {
   "cell_type": "code",
   "execution_count": 27,
   "metadata": {
    "collapsed": false
   },
   "outputs": [],
   "source": [
    "p_count = Counter() # holds number of successful requests that contain a given word\n",
    "w_count = Counter() # holds number of total requests that contain a given word\n",
    "#title_p_count = Counter() # holds number of successful requests that contain a given word in title\n",
    "#title_w_count = Counter() # holds number of total requests that contain a given word in title\n",
    "probs = []\n",
    "title_probs = []\n",
    "total = 0\n",
    "\n",
    "f = open(\"train.json\", \"r\")\n",
    "tokenizer = RegexpTokenizer(r'[a-zA-Z]+')\n",
    "sw = stopwords.words('english')\n",
    "\n",
    "try:\n",
    "    data = json.load(f)\n",
    "    \n",
    "    for item in data:\n",
    "        \n",
    "        # extract the outcome labels and text for request and title\n",
    "        receive = int(item['requester_received_pizza'])\n",
    "        words = item['request_text_edit_aware'] + ' ' + item['request_title']\n",
    "        tokens = set([t.lower() for t in tokenizer.tokenize(words) if t.lower() not in sw])\n",
    "        \n",
    "        #title_words = item['request_title']\n",
    "        #title_tokens = set([t.lower() for t in tokenizer.tokenize(title_words) if t.lower() not in sw])\n",
    "        \n",
    "        if receive == 1:\n",
    "            p_count.update(t for t in tokens)\n",
    "            #title_p_count.update(t for t in title_tokens)\n",
    "        \n",
    "        w_count.update(t for t in tokens)\n",
    "        #title_w_count.update(t for t in title_tokens)\n",
    "        total += 1\n",
    "        \n",
    "\n",
    "except Exception, e:\n",
    "    print \"error reading from file: %s\" %e\n",
    "    f.close()\n",
    "\n",
    "f.close()\n",
    "\n",
    "# store results in tuple. contents are the word, occurrences in successful requests, ratio of\n",
    "# occurrences in successful request to total occurrences\n",
    "for key, value in p_count.iteritems():\n",
    "    prob = 1.0 * value / w_count.get(key)\n",
    "    probs.append((key, value, prob))\n",
    "\n",
    "'''for key, value in title_p_count.iteritems():\n",
    "    prob = 1.0 * value / title_w_count.get(key)\n",
    "    title_probs.append((key, value, prob))'''\n",
    "\n",
    "probs.sort(key=lambda tup: tup[2], reverse=True)\n",
    "#title_probs.sort(key=lambda tup: tup[2], reverse=True)"
   ]
  },
  {
   "cell_type": "code",
   "execution_count": 29,
   "metadata": {
    "collapsed": false,
    "scrolled": true
   },
   "outputs": [
    {
     "name": "stdout",
     "output_type": "stream",
     "text": [
      "[u'surviving', u'stretch', u'married', u'total', u'incredibly', u'landlord', u'cover', u'receiving', u'stopped', u'nj', u'bare', u'current', u'jpg', u'exchange', u'normally', u'applied', u'checks', u'truly', u'heat', u'aren', u'plain', u'kentucky', u'reasons']\n"
     ]
    }
   ],
   "source": [
    "# print contents of the tuple list based on conditions\n",
    "\n",
    "wordlist = []\n",
    "\n",
    "for item in probs:\n",
    "    # print tuple if word occurs in at least 15 successful requests and 40% of occurrences are in successful requests\n",
    "    if item[1] >= 10 and item[2] >= .45:\n",
    "        #print item\n",
    "        wordlist.append(item[0])\n",
    "\n",
    "# this just prints the words. handy if you want to paste array into code\n",
    "print wordlist"
   ]
  },
  {
   "cell_type": "code",
   "execution_count": 16,
   "metadata": {
    "collapsed": true
   },
   "outputs": [],
   "source": [
    "# try the same, but looking at subreddits\n",
    "# however, I found this doesn't help at all for the ML results\n",
    "\n",
    "reddit_count = Counter()\n",
    "total_count = Counter()\n",
    "ratio = []\n",
    "total = 0\n",
    "\n",
    "f = open(\"train.json\", \"r\")\n",
    "\n",
    "try:\n",
    "    data = json.load(f)\n",
    "    \n",
    "    for item in data:\n",
    "        \n",
    "        # extract subreddits requesters belong to and put in counter\n",
    "        receive = int(item['requester_received_pizza'])\n",
    "        subr = item['requester_subreddits_at_request']\n",
    "        \n",
    "        if receive == 1:\n",
    "            reddit_count.update(s for s in subr)\n",
    "        \n",
    "        total_count.update(s for s in subr)\n",
    "        total += 1\n",
    "\n",
    "except Exception, e:\n",
    "    print \"error reading from file: %s\" %e\n",
    "    f.close()\n",
    "\n",
    "f.close()\n",
    "\n",
    "# store results in tuple. contents are the word, occurrences in successful requests, ratio of\n",
    "# occurrences in successful request to total occurrences\n",
    "for key, value in reddit_count.iteritems():\n",
    "    prob = 1.0 * value / total_count.get(key)\n",
    "    ratio.append((key, value, prob))\n",
    "\n",
    "ratio.sort(key=lambda tup: tup[2], reverse=True)"
   ]
  },
  {
   "cell_type": "code",
   "execution_count": 25,
   "metadata": {
    "collapsed": false
   },
   "outputs": [
    {
     "name": "stdout",
     "output_type": "stream",
     "text": [
      "[u'Theatre', u'OperationGrabAss', u'kindle', u'randomacts', u'Dogtraining', u'electronics', u'Jeep']\n",
      "7\n"
     ]
    }
   ],
   "source": [
    "# print contents of the tuple list based on conditions\n",
    "\n",
    "reddit_list = []\n",
    "\n",
    "for item in ratio:\n",
    "    # print tuple if subreddit occurs in at least 5 successful requests and 50% of occurrences are in successful requests\n",
    "    if item[1] >= 7 and item[2] >= .55:\n",
    "        #print item\n",
    "        reddit_list.append(item[0])\n",
    "\n",
    "# this just prints the subreddits. handy if you want to paste array into code\n",
    "print reddit_list\n",
    "print len(reddit_list)"
   ]
  },
  {
   "cell_type": "code",
   "execution_count": null,
   "metadata": {
    "collapsed": true
   },
   "outputs": [],
   "source": []
  }
 ],
 "metadata": {
  "kernelspec": {
   "display_name": "Python 2",
   "language": "python",
   "name": "python2"
  },
  "language_info": {
   "codemirror_mode": {
    "name": "ipython",
    "version": 2
   },
   "file_extension": ".py",
   "mimetype": "text/x-python",
   "name": "python",
   "nbconvert_exporter": "python",
   "pygments_lexer": "ipython2",
   "version": "2.7.6"
  }
 },
 "nbformat": 4,
 "nbformat_minor": 0
}
